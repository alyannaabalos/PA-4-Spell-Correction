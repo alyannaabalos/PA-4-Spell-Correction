{
 "cells": [
  {
   "cell_type": "markdown",
   "metadata": {
    "id": "3i3m9JjeM5U5"
   },
   "source": [
    "# **Programming Assessment \\#5**\n",
    "\n",
    "Names: Alyanna Abalos, Loben Tipan\n",
    "\n",
    "More information on the assessment is found in our Canvas course."
   ]
  },
  {
   "cell_type": "markdown",
   "metadata": {
    "id": "HxtmCAZwNoeU"
   },
   "source": [
    "# **Load Pre-trained Embeddings**\n",
    "\n",
    "*While you don't have to separate your code into blocks, it might be easier if you separated loading / downloading your data from the main part of your solution. Consider placing all loading of data into the code block below.*"
   ]
  },
  {
   "cell_type": "code",
   "execution_count": 10,
   "metadata": {
    "id": "CbvxU2oTM4IV"
   },
   "outputs": [
    {
     "name": "stdout",
     "output_type": "stream",
     "text": [
      "[==================================================] 100.0% 128.1/128.1MB downloaded\n"
     ]
    },
    {
     "name": "stderr",
     "output_type": "stream",
     "text": [
      "[nltk_data] Downloading package words to\n",
      "[nltk_data]     /Users/alyannaabalos/nltk_data...\n",
      "[nltk_data]   Package words is already up-to-date!\n"
     ]
    }
   ],
   "source": [
    "import gensim.downloader as api\n",
    "import nltk\n",
    "from gensim.models import KeyedVectors\n",
    "from nltk.corpus import words\n",
    "\n",
    "word_vectors = api.load(\"glove-wiki-gigaword-100\")\n",
    "nltk.download('words')\n",
    "english_words = set(words.words())\n",
    "valid_words = set(word_vectors.key_to_index.keys()) & english_words"
   ]
  },
  {
   "cell_type": "markdown",
   "metadata": {
    "id": "r8YCZLi-N0uR"
   },
   "source": [
    "# **Your Implementation**\n",
    "\n",
    "*Again, you don't have to have everything in one block. Use the notebook according to your preferences with the goal of fulfilling the assessment in mind.*"
   ]
  },
  {
   "cell_type": "markdown",
   "metadata": {},
   "source": [
    "# Random Word Generator"
   ]
  },
  {
   "cell_type": "code",
   "execution_count": 11,
   "metadata": {
    "id": "VqKjpUrkOSnC"
   },
   "outputs": [],
   "source": [
    "import random\n",
    "\n",
    "valid_words_list = list(valid_words)\n",
    "\n",
    "def get_random_word():\n",
    "    random_word = random.choice(valid_words_list)\n",
    "    return random_word.lower()"
   ]
  },
  {
   "cell_type": "markdown",
   "metadata": {},
   "source": [
    "# Most Similar Words"
   ]
  },
  {
   "cell_type": "code",
   "execution_count": 12,
   "metadata": {},
   "outputs": [],
   "source": [
    "def get_similar_words(word_vectors, target_word, valid_words, indices=[10, 50, 100], attempt_limit=10):\n",
    "    similar_words = []\n",
    "    topn_attempt = max(indices) * attempt_limit \n",
    "\n",
    "    while len(similar_words) < max(indices) and topn_attempt > 0:\n",
    "        similar_words_batch = word_vectors.most_similar(target_word, topn=topn_attempt)\n",
    "        similar_words.extend([(word, score) for word, score in similar_words_batch if word in valid_words])\n",
    "        similar_words = list(dict.fromkeys(similar_words)) \n",
    "        topn_attempt += max(indices) \n",
    "\n",
    "    for idx in indices:\n",
    "        if idx - 1 < len(similar_words):\n",
    "            word, score = similar_words[idx - 1]\n",
    "            print(f\"{idx}th most similar word to '{target_word}': {word} with a similarity score of {score}\")\n",
    "        else:\n",
    "            print(f\"Only {len(similar_words)} similar words were found for '{target_word}', not enough to show the {idx}th word.\")\n",
    "\n",
    "    return [word for word, score in similar_words]"
   ]
  },
  {
   "cell_type": "markdown",
   "metadata": {},
   "source": [
    "# Cosine Similarity"
   ]
  },
  {
   "cell_type": "code",
   "execution_count": 13,
   "metadata": {},
   "outputs": [],
   "source": [
    "def get_similarity_score(word_vectors, correct_word, guess, precision=8):\n",
    "    try:\n",
    "        similarity_score = word_vectors.similarity(correct_word, guess)\n",
    "        similarity_score = max(min(similarity_score, 1.0), -1.0)\n",
    "        similarity_score = round(similarity_score, precision)\n",
    "        return similarity_score\n",
    "    except KeyError:\n",
    "        return None"
   ]
  },
  {
   "cell_type": "markdown",
   "metadata": {},
   "source": [
    "# Semantle Replication"
   ]
  },
  {
   "cell_type": "code",
   "execution_count": 17,
   "metadata": {},
   "outputs": [
    {
     "name": "stdout",
     "output_type": "stream",
     "text": [
      "Randomly selected word: regain\n",
      "\n",
      "Closest...\n",
      "10th most similar word to 'regain': retake with a similarity score of 0.622226357460022\n",
      "50th most similar word to 'regain': regroup with a similarity score of 0.532402515411377\n",
      "100th most similar word to 'regain': reach with a similarity score of 0.497180312871933\n",
      "\n",
      "Input your guess. Type 'q' to exit.\n",
      "\n"
     ]
    },
    {
     "name": "stdin",
     "output_type": "stream",
     "text": [
      "Enter your guess:  take\n"
     ]
    },
    {
     "name": "stdout",
     "output_type": "stream",
     "text": [
      "Similarity score: 0.5233028531074524\n"
     ]
    },
    {
     "name": "stdin",
     "output_type": "stream",
     "text": [
      "Enter your guess:  reclaim\n"
     ]
    },
    {
     "name": "stdout",
     "output_type": "stream",
     "text": [
      "Similarity score: 0.7803837656974792\n"
     ]
    },
    {
     "name": "stdin",
     "output_type": "stream",
     "text": [
      "Enter your guess:  regain\n"
     ]
    },
    {
     "name": "stdout",
     "output_type": "stream",
     "text": [
      "Similarity score: 1.0\n",
      "Great job on guessing the word!\n"
     ]
    }
   ],
   "source": [
    "def semantle_dupe():\n",
    "    similarity = 0\n",
    "    try:\n",
    "        random_word = get_random_word()\n",
    "    except ValueError:\n",
    "        print(\"No valid words found in the model's vocabulary.\")\n",
    "        return\n",
    "\n",
    "    print(f\"Randomly selected word: {random_word}\")\n",
    "    print(\"\\nClosest...\")\n",
    "    \n",
    "    try:\n",
    "        get_similar_words(word_vectors, random_word, valid_words, indices=[10, 50, 100])\n",
    "    except KeyError:\n",
    "        return\n",
    "\n",
    "    print(\"\\nInput your guess. Type 'q' to exit.\\n\")\n",
    "    while True:\n",
    "        user_guess = input(\"Enter your guess: \").lower()\n",
    "        if user_guess == 'q':\n",
    "            print(f\"The target word was: {random_word}\")\n",
    "            break\n",
    "        similarity = get_similarity_score(word_vectors, random_word, user_guess)\n",
    "        if similarity is not None:\n",
    "            print(f\"Similarity score: {similarity}\")\n",
    "            if abs(similarity - 1.0) < 1e-7:\n",
    "                print(\"Great job on guessing the word!\")\n",
    "                break\n",
    "        else:\n",
    "            print(\"Word not found in the model's vocabulary\")\n",
    "\n",
    "if __name__ == \"__main__\":\n",
    "    semantle_dupe()"
   ]
  },
  {
   "cell_type": "code",
   "execution_count": null,
   "metadata": {},
   "outputs": [],
   "source": []
  }
 ],
 "metadata": {
  "colab": {
   "provenance": []
  },
  "kernelspec": {
   "display_name": "Python 3 (ipykernel)",
   "language": "python",
   "name": "python3"
  },
  "language_info": {
   "codemirror_mode": {
    "name": "ipython",
    "version": 3
   },
   "file_extension": ".py",
   "mimetype": "text/x-python",
   "name": "python",
   "nbconvert_exporter": "python",
   "pygments_lexer": "ipython3",
   "version": "3.11.5"
  }
 },
 "nbformat": 4,
 "nbformat_minor": 4
}
