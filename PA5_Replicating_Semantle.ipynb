{
 "cells": [
  {
   "cell_type": "markdown",
   "metadata": {
    "id": "3i3m9JjeM5U5"
   },
   "source": [
    "# **Programming Assessment \\#5**\n",
    "\n",
    "Names: Alyanna Abalos, Loben Tipan\n",
    "\n",
    "More information on the assessment is found in our Canvas course."
   ]
  },
  {
   "cell_type": "markdown",
   "metadata": {
    "id": "HxtmCAZwNoeU"
   },
   "source": [
    "# **Load Pre-trained Embeddings**\n",
    "\n",
    "*While you don't have to separate your code into blocks, it might be easier if you separated loading / downloading your data from the main part of your solution. Consider placing all loading of data into the code block below.*"
   ]
  },
  {
   "cell_type": "code",
   "execution_count": 1,
   "metadata": {
    "id": "CbvxU2oTM4IV"
   },
   "outputs": [
    {
     "name": "stderr",
     "output_type": "stream",
     "text": [
      "[nltk_data] Downloading package words to\n",
      "[nltk_data]     /Users/alyannaabalos/nltk_data...\n",
      "[nltk_data]   Unzipping corpora/words.zip.\n"
     ]
    }
   ],
   "source": [
    "import gensim.downloader as api\n",
    "import nltk\n",
    "from gensim.models import KeyedVectors\n",
    "from nltk.corpus import words\n",
    "\n",
    "word_vectors = api.load(\"word2vec-google-news-300\")\n",
    "nltk.download('words')\n",
    "english_words = set(words.words())"
   ]
  },
  {
   "cell_type": "markdown",
   "metadata": {
    "id": "r8YCZLi-N0uR"
   },
   "source": [
    "# **Your Implementation**\n",
    "\n",
    "*Again, you don't have to have everything in one block. Use the notebook according to your preferences with the goal of fulfilling the assessment in mind.*"
   ]
  },
  {
   "cell_type": "markdown",
   "metadata": {},
   "source": [
    "# Random Word Generator"
   ]
  },
  {
   "cell_type": "code",
   "execution_count": 41,
   "metadata": {
    "id": "VqKjpUrkOSnC"
   },
   "outputs": [],
   "source": [
    "import random\n",
    "\n",
    "def get_random_word(word_vectors, english_words):\n",
    "    valid_words = set(word_vectors.key_to_index.keys()) & english_words\n",
    "    random_word = random.choice(list(valid_words))\n",
    "    return random_word.lower()"
   ]
  },
  {
   "cell_type": "code",
   "execution_count": 42,
   "metadata": {},
   "outputs": [],
   "source": [
    "def get_similar_words(word_vectors, target_word, english_words, indices=[10, 50, 100]):\n",
    "    similar_words = word_vectors.most_similar(target_word, topn=1000)\n",
    "\n",
    "    normal_similar_words = [(word, score) for word, score in similar_words if word in english_words]\n",
    "    \n",
    "    baseline_words = {}\n",
    "    for idx in indices:\n",
    "        if idx - 1 < len(normal_similar_words):\n",
    "            baseline_words[idx] = normal_similar_words[idx - 1]\n",
    "\n",
    "    for idx, (word, score) in baseline_words.items():\n",
    "        print(f\"{idx}th most similar word to '{target_word}': {word} with a similarity score of {score}\")\n",
    "\n",
    "    return baseline_words"
   ]
  },
  {
   "cell_type": "code",
   "execution_count": 43,
   "metadata": {},
   "outputs": [],
   "source": [
    "def get_similarity_score(word_vectors, correct_word, guess):\n",
    "    try:\n",
    "        similarity_score = word_vectors.similarity(correct_word, guess)\n",
    "        return similarity_score\n",
    "    except KeyError as e:\n",
    "        return None"
   ]
  },
  {
   "cell_type": "code",
   "execution_count": 47,
   "metadata": {},
   "outputs": [
    {
     "name": "stdout",
     "output_type": "stream",
     "text": [
      "Randomly selected word: seymour\n",
      "10th most similar word to 'seymour': montana with a similarity score of 0.5854490995407104\n",
      "50th most similar word to 'seymour': schneider with a similarity score of 0.5428854823112488\n",
      "100th most similar word to 'seymour': corse with a similarity score of 0.5140801072120667\n",
      "\n",
      "Input your guess. Type 'q' to exit.\n",
      "\n"
     ]
    },
    {
     "name": "stdin",
     "output_type": "stream",
     "text": [
      "Enter your guess:  seymour\n"
     ]
    },
    {
     "name": "stdout",
     "output_type": "stream",
     "text": [
      "Similarity score: 1.0\n"
     ]
    }
   ],
   "source": [
    "# Function to play the game\n",
    "def semantle_dupe(word_vectors, english_words):\n",
    "    similarity = 0\n",
    "    random_word = get_random_word(word_vectors, english_words)\n",
    "    print(f\"Randomly selected word: {random_word}\")\n",
    "    \n",
    "    get_similar_words(word_vectors, random_word, english_words)\n",
    "\n",
    "    print(\"\\nInput your guess. Type 'q' to exit.\\n\")\n",
    "    while (similarity != 1):\n",
    "        user_guess = input(\"Enter your guess: \").lower()\n",
    "        if user_guess == 'q':\n",
    "            print(f\"The target word was: {random_word}\")\n",
    "            break\n",
    "        similarity = get_similarity_score(word_vectors, random_word, user_guess)\n",
    "        if similarity is not None:\n",
    "            print(f\"Similarity score: {similarity}\")\n",
    "        else:\n",
    "            print(\"Word not found in the Word2Vec model's vocabulary.\")\n",
    "\n",
    "# Main execution\n",
    "if __name__ == \"__main__\":\n",
    "    semantle_dupe(word_vectors, english_words)"
   ]
  },
  {
   "cell_type": "code",
   "execution_count": null,
   "metadata": {},
   "outputs": [],
   "source": []
  }
 ],
 "metadata": {
  "colab": {
   "provenance": []
  },
  "kernelspec": {
   "display_name": "Python 3 (ipykernel)",
   "language": "python",
   "name": "python3"
  },
  "language_info": {
   "codemirror_mode": {
    "name": "ipython",
    "version": 3
   },
   "file_extension": ".py",
   "mimetype": "text/x-python",
   "name": "python",
   "nbconvert_exporter": "python",
   "pygments_lexer": "ipython3",
   "version": "3.11.5"
  }
 },
 "nbformat": 4,
 "nbformat_minor": 4
}
