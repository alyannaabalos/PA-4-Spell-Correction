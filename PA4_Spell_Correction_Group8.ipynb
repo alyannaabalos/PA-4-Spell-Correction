{
 "cells": [
  {
   "cell_type": "markdown",
   "metadata": {
    "id": "3i3m9JjeM5U5"
   },
   "source": [
    "# **Programming Assessment \\#4**\n",
    "\n",
    "Names: Alyanna Abalos, Loben Tipan\n",
    "\n",
    "More information on the assessment is found in our Canvas course."
   ]
  },
  {
   "cell_type": "markdown",
   "metadata": {
    "id": "HxtmCAZwNoeU"
   },
   "source": [
    "# **Load Data**\n",
    "\n",
    "*While you don't have to separate your code into blocks, it might be easier if you separated loading your data from actually implementation of your code. Consider placing all loading of data into the code block below.*"
   ]
  },
  {
   "cell_type": "code",
   "execution_count": 17,
   "metadata": {
    "id": "CbvxU2oTM4IV",
    "scrolled": true
   },
   "outputs": [
    {
     "name": "stdout",
     "output_type": "stream",
     "text": [
      "raining: rainning, raning\n",
      "writings: writtings\n",
      "disparagingly: disparingly\n",
      "yellow: yello\n",
      "four: forer, fours, fuore, fore*5, for*4\n",
      "woods: woodes\n",
      "hanging: haing\n",
      "aggression: agression\n",
      "looking: loking, begining, luing, look*2, locking, lucking, louk, looing, lookin, liking\n",
      "eligible: eligble, elegable, eligable\n",
      "electricity: electrisity, electricty*2, electrizity\n",
      "scold: schold, skold\n",
      "adaptable: adabtable\n",
      "caned: canned, cained\n",
      "immature: imature\n",
      "shouldn't: shoudln, shouldnt\n",
      "swivel: swival\n",
      "appropriation: a\n"
     ]
    }
   ],
   "source": [
    "with open('count_1edit.txt', 'r', encoding='ISO-8859-1') as file:\n",
    "    data_count_1edit = file.read()\n",
    "\n",
    "with open('spell_errors.txt', 'r', encoding='ISO-8859-1') as file:\n",
    "    data_spell_errors = file.read()\n"
   ]
  },
  {
   "cell_type": "markdown",
   "metadata": {
    "id": "r8YCZLi-N0uR"
   },
   "source": [
    "# **Error Model Implementation**"
   ]
  },
  {
   "cell_type": "code",
   "execution_count": 37,
   "metadata": {},
   "outputs": [
    {
     "name": "stdout",
     "output_type": "stream",
     "text": [
      "[(('e', 'i'), 917), (('a', 'e'), 856), (('i', 'e'), 771), (('e', 'a'), 749), (('a', 'i'), 559)] \n",
      "\n",
      "\n",
      "[('raining', ['rainning', 'raning']), ('writings', ['writtings']), ('disparagingly', ['disparingly']), ('yellow', ['yello']), ('four', ['forer', 'fours', 'fuore', 'fore*5', 'for*4'])]\n"
     ]
    }
   ],
   "source": [
    "error_model = {}\n",
    "for line in data_count_1edit.splitlines():\n",
    "    parts = line.split('|')\n",
    "    w = parts[0].strip() \n",
    "    \n",
    "    if len(parts) < 2:\n",
    "        continue\n",
    "\n",
    "    c_split = parts[1].split()\n",
    "    if len(c_split) < 2:\n",
    "        continue\n",
    "\n",
    "    c = c_split[0]\n",
    "    count = int(c_split[1])\n",
    "    \n",
    "    error_model[(w, c)] = count\n",
    "\n",
    "spell_errors = {}\n",
    "for line in data_spell_errors.splitlines():\n",
    "    correct_word, misspelled_words_part = line.split(\":\")\n",
    "    misspelled_words = [word.strip() for word in misspelled_words_part.split(',')]\n",
    "    spell_errors[correct_word.strip()] = misspelled_words\n",
    "\n",
    "\n",
    "print(list(error_model.items())[:5], \"\\n\\n\")\n",
    "print(list(spell_errors.items())[:5])"
   ]
  },
  {
   "cell_type": "code",
   "execution_count": 39,
   "metadata": {},
   "outputs": [
    {
     "name": "stdout",
     "output_type": "stream",
     "text": [
      "[(('e', 'i'), 0.02371715290709704), (('a', 'e'), 0.022139457893647838), (('i', 'e'), 0.01994103041589075), (('e', 'a'), 0.01937202565694186), (('a', 'i'), 0.014457893647837781)] \n",
      "\n",
      "\n",
      "[('I', {'a': 2.5863852679495136e-05, 'i': 2.5863852679495136e-05}), ('as', {'a': 0.0029484792054624456}), ('to', {'ot': 0.00012931926339747568}), ('be', {'b': 0.001138009517897786}), ('a', {'I': 2.5863852679495136e-05, 'ah': 7.759155803848541e-05, 'as': 0.0023794744465135526})]\n"
     ]
    }
   ],
   "source": [
    "# Error model\n",
    "total_error_counts = sum(error_model.values())\n",
    "\n",
    "error_model_probabilities = {pair: count / total_error_counts for pair, count in error_model.items()}\n",
    "\n",
    "\n",
    "spell_errors_probabilities = {}\n",
    "for correct_word, misspelled_words in spell_errors.items():\n",
    "    for misspelled in misspelled_words:\n",
    "        if (misspelled, correct_word) in error_model:\n",
    "            if correct_word not in spell_errors_probabilities:\n",
    "                spell_errors_probabilities[correct_word] = {}\n",
    "            spell_errors_probabilities[correct_word][misspelled] = error_model[(misspelled, correct_word)] / total_error_counts\n",
    "\n",
    "print(list(error_model_probabilities.items())[:5], \"\\n\\n\")\n",
    "print(list(spell_errors_probabilities.items())[:5])"
   ]
  },
  {
   "cell_type": "markdown",
   "metadata": {
    "id": "r8YCZLi-N0uR"
   },
   "source": [
    "# **Language Model Implementation**\n",
    "\n",
    "*Again, you don't have to follow this directly, but consider placing your implementation of the model in the code block below.*"
   ]
  },
  {
   "cell_type": "code",
   "execution_count": null,
   "metadata": {
    "id": "VqKjpUrkOSnC"
   },
   "outputs": [],
   "source": []
  }
 ],
 "metadata": {
  "colab": {
   "provenance": []
  },
  "kernelspec": {
   "display_name": "Python 3 (ipykernel)",
   "language": "python",
   "name": "python3"
  },
  "language_info": {
   "codemirror_mode": {
    "name": "ipython",
    "version": 3
   },
   "file_extension": ".py",
   "mimetype": "text/x-python",
   "name": "python",
   "nbconvert_exporter": "python",
   "pygments_lexer": "ipython3",
   "version": "3.11.5"
  }
 },
 "nbformat": 4,
 "nbformat_minor": 4
}
